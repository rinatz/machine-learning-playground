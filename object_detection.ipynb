{
 "metadata": {
  "language_info": {
   "codemirror_mode": {
    "name": "ipython",
    "version": 3
   },
   "file_extension": ".py",
   "mimetype": "text/x-python",
   "name": "python",
   "nbconvert_exporter": "python",
   "pygments_lexer": "ipython3",
   "version": "3.7.9-final"
  },
  "orig_nbformat": 2,
  "kernelspec": {
   "name": "python3",
   "display_name": "Python 3.7.9 64-bit ('.venv')",
   "metadata": {
    "interpreter": {
     "hash": "1186d4e9fc71bc68e5c236a61d6a16eabd05ebef8d3df8b6414dc4fb9c6b4b41"
    }
   }
  }
 },
 "nbformat": 4,
 "nbformat_minor": 2,
 "cells": [
  {
   "source": [
    "# Model Garden を使った物体検出"
   ],
   "cell_type": "markdown",
   "metadata": {}
  },
  {
   "source": [
    "## インストール"
   ],
   "cell_type": "markdown",
   "metadata": {}
  },
  {
   "cell_type": "code",
   "execution_count": null,
   "metadata": {
    "tags": []
   },
   "outputs": [],
   "source": [
    "%%bash\n",
    "\n",
    "mkdir -p .conan\n",
    "cd .conan\n",
    "conan install .."
   ]
  },
  {
   "cell_type": "code",
   "execution_count": null,
   "metadata": {
    "tags": [
     "outputPrepend"
    ]
   },
   "outputs": [],
   "source": [
    "%%bash\n",
    "\n",
    "export PATH=$PWD/.conan:$PATH\n",
    "\n",
    "cd models/research\n",
    "protoc object_detection/protos/*.proto --python_out=.\n",
    "cp -f object_detection/packages/tf2/setup.py .\n",
    "pip install ."
   ]
  },
  {
   "source": [
    "## 定数"
   ],
   "cell_type": "markdown",
   "metadata": {}
  },
  {
   "cell_type": "code",
   "execution_count": null,
   "metadata": {},
   "outputs": [],
   "source": [
    "# 適当な画像を用意する\n",
    "IMAGE_PATH = \"dog.jpg\"\n",
    "\n",
    "# 使用するモデルの ID を model_urls.csv から選択\n",
    "MODEL_ID = 27\n",
    "\n",
    "# 推論結果のスコアに対するしきい値\n",
    "SCORE_THRESHOLD = 0.5"
   ]
  },
  {
   "source": [
    "## インポート"
   ],
   "cell_type": "markdown",
   "metadata": {}
  },
  {
   "cell_type": "code",
   "execution_count": null,
   "metadata": {},
   "outputs": [],
   "source": [
    "import csv\n",
    "from pathlib import Path\n",
    "\n",
    "import tensorflow as tf\n",
    "from object_detection.utils.label_map_util import create_category_index_from_labelmap\n",
    "import numpy as np\n",
    "from PIL import Image, ImageDraw, ImageColor, ImageFont\n",
    "import certifi"
   ]
  },
  {
   "source": [
    "## モデルをダウンロード"
   ],
   "cell_type": "markdown",
   "metadata": {}
  },
  {
   "cell_type": "code",
   "execution_count": null,
   "metadata": {},
   "outputs": [],
   "source": [
    "# ダウンロードに失敗しないようにするためのおまじない\n",
    "os.environ[\"SSL_CERT_FILE\"] = certifi.where()"
   ]
  },
  {
   "cell_type": "code",
   "execution_count": null,
   "metadata": {},
   "outputs": [],
   "source": [
    "with open(\"model_urls.csv\") as f:\n",
    "     model_urls = list(csv.DictReader(f))"
   ]
  },
  {
   "cell_type": "code",
   "execution_count": null,
   "metadata": {},
   "outputs": [],
   "source": [
    "model_url = model_urls[MODEL_ID]\n",
    "\n",
    "model_dir = tf.keras.utils.get_file(\n",
    "    fname=model_url[\"name\"],\n",
    "    origin=model_url[\"url\"],\n",
    "    untar=True,\n",
    "    cache_subdir=\"models\",\n",
    ")\n",
    "model_dir = str(Path(model_dir) / \"saved_model\")\n",
    "model_dir"
   ]
  },
  {
   "source": [
    "## モデルをロード"
   ],
   "cell_type": "markdown",
   "metadata": {}
  },
  {
   "cell_type": "code",
   "execution_count": null,
   "metadata": {},
   "outputs": [],
   "source": [
    "model = tf.saved_model.load(model_dir)\n",
    "infer = model.signatures[\"serving_default\"]\n",
    "\n",
    "!saved_model_cli show --all --dir $model_dir"
   ]
  },
  {
   "cell_type": "code",
   "execution_count": null,
   "metadata": {},
   "outputs": [],
   "source": [
    "category_index = create_category_index_from_labelmap(\n",
    "    \"models/research/object_detection/data/mscoco_label_map.pbtxt\",\n",
    "    use_display_name=True,\n",
    ")"
   ]
  },
  {
   "source": [
    "## 画像データをロード"
   ],
   "cell_type": "markdown",
   "metadata": {}
  },
  {
   "cell_type": "code",
   "execution_count": null,
   "metadata": {},
   "outputs": [],
   "source": [
    "image = tf.io.read_file(IMAGE_PATH)\n",
    "image = tf.io.decode_jpeg(image)\n",
    "image.shape"
   ]
  },
  {
   "source": [
    "## 画像データを正規化"
   ],
   "cell_type": "markdown",
   "metadata": {}
  },
  {
   "cell_type": "code",
   "execution_count": null,
   "metadata": {},
   "outputs": [],
   "source": [
    "#\n",
    "# モデルによっては float32 への変換が必要かも（入力層の dtype を確認）\n",
    "#\n",
    "# image = tf.image.convert_image_dtype(image, tf.float32)\n",
    "\n",
    "images = tf.stack([image], axis=0)\n",
    "images.shape"
   ]
  },
  {
   "source": [
    "## 推論を実行"
   ],
   "cell_type": "markdown",
   "metadata": {}
  },
  {
   "cell_type": "code",
   "execution_count": null,
   "metadata": {},
   "outputs": [],
   "source": [
    "preds = infer(images)\n",
    "\n",
    "num_detections = int(preds[\"num_detections\"][0])\n",
    "boxes = preds[\"detection_boxes\"][0]\n",
    "scores = preds[\"detection_scores\"][0]\n",
    "labels = preds[\"detection_classes\"][0]\n",
    "\n",
    "num_detections, boxes.shape, scores.shape, labels.shape"
   ]
  },
  {
   "source": [
    "## バウンディングボックスを描画"
   ],
   "cell_type": "markdown",
   "metadata": {}
  },
  {
   "cell_type": "code",
   "execution_count": null,
   "metadata": {},
   "outputs": [],
   "source": [
    "output_image = Image.open(IMAGE_PATH)\n",
    "\n",
    "draw = ImageDraw.Draw(output_image)\n",
    "color = ImageColor.getrgb(\"#E91E63\")\n",
    "font = ImageFont.truetype(\"Monaco\", size=46)\n",
    "\n",
    "xy_scale = np.array([output_image.height, output_image.width, output_image.height, output_image.width])\n",
    "\n",
    "for i in range(num_detections):\n",
    "    label = int(labels[i])\n",
    "    score = scores[i]\n",
    "\n",
    "    if score <= SCORE_THRESHOLD:\n",
    "        continue\n",
    "\n",
    "    name = category_index[label][\"name\"]\n",
    "    text = f\"{name}: {score * 100:.1f}%\"\n",
    "    y_min, x_min, y_max, x_max = boxes[i] * xy_scale\n",
    "\n",
    "    print(f\"{name},{label},{score:.6f},{x_min:.6f},{y_min:.6f},{x_max:.6f},{y_max:.6f}\")\n",
    "\n",
    "    draw.text((x_min, y_min), text, font=font, fill=color)\n",
    "    draw.rectangle((x_min, y_min, x_max, y_max), outline=color, width=4)\n",
    "\n",
    "output_image"
   ]
  }
 ]
}