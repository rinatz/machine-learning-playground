{
 "metadata": {
  "language_info": {
   "codemirror_mode": {
    "name": "ipython",
    "version": 3
   },
   "file_extension": ".py",
   "mimetype": "text/x-python",
   "name": "python",
   "nbconvert_exporter": "python",
   "pygments_lexer": "ipython3",
   "version": "3.7.9-final"
  },
  "orig_nbformat": 2,
  "kernelspec": {
   "name": "python3",
   "display_name": "Python 3.7.9 64-bit ('.venv')",
   "metadata": {
    "interpreter": {
     "hash": "1186d4e9fc71bc68e5c236a61d6a16eabd05ebef8d3df8b6414dc4fb9c6b4b41"
    }
   }
  }
 },
 "nbformat": 4,
 "nbformat_minor": 2,
 "cells": [
  {
   "source": [
    "# TensorFlow Model Garden を使った物体検出"
   ],
   "cell_type": "markdown",
   "metadata": {}
  },
  {
   "source": [
    "## インポート"
   ],
   "cell_type": "markdown",
   "metadata": {}
  },
  {
   "cell_type": "code",
   "execution_count": null,
   "metadata": {},
   "outputs": [],
   "source": [
    "import os\n",
    "from pathlib import Path\n",
    "\n",
    "import certifi\n",
    "import numpy as np\n",
    "from PIL import Image\n",
    "\n",
    "import tensorflow as tf\n",
    "import tensorflow_hub as hub"
   ]
  },
  {
   "source": [
    "## 可視化ツール\n",
    "\n",
    "検出したバウンディングボックスを可視化するために TensorFlow Object Detection API を使用します。\n",
    "まずはリポジトリをクローンしてください。"
   ],
   "cell_type": "markdown",
   "metadata": {}
  },
  {
   "cell_type": "code",
   "execution_count": null,
   "metadata": {},
   "outputs": [],
   "source": [
    "%%bash\n",
    "\n",
    "if [[ ! -d \"models\" ]]; then\n",
    "    git clone --depth 1 https://github.com/tensorflow/models\n",
    "fi"
   ]
  },
  {
   "source": [
    "Object Detection API をインストールします。"
   ],
   "cell_type": "markdown",
   "metadata": {}
  },
  {
   "cell_type": "code",
   "execution_count": null,
   "metadata": {
    "tags": []
   },
   "outputs": [],
   "source": [
    "%%bash\n",
    "\n",
    "cd models/research\n",
    "protoc object_detection/protos/*.proto --python_out=.\n",
    "cp -f object_detection/packages/tf2/setup.py .\n",
    "pip install -q ."
   ]
  },
  {
   "source": [
    "後に使用するモジュールをインポートします。"
   ],
   "cell_type": "markdown",
   "metadata": {}
  },
  {
   "cell_type": "code",
   "execution_count": null,
   "metadata": {},
   "outputs": [],
   "source": [
    "from object_detection.utils import label_map_util\n",
    "from object_detection.utils import visualization_utils as viz_utils\n",
    "from object_detection.utils import ops as utils_ops"
   ]
  },
  {
   "source": [
    "## ラベルマップデータをロード\n",
    "\n",
    "インデックスから物体のカテゴリ名を対応付けるラベルマップデータをロードします。"
   ],
   "cell_type": "markdown",
   "metadata": {}
  },
  {
   "cell_type": "code",
   "execution_count": null,
   "metadata": {},
   "outputs": [],
   "source": [
    "category_index = label_map_util.create_category_index_from_labelmap(\n",
    "    \"models/research/object_detection/data/mscoco_label_map.pbtxt\",\n",
    "    use_display_name=True,\n",
    ")"
   ]
  },
  {
   "source": [
    "## モデルをダウンロード"
   ],
   "cell_type": "markdown",
   "metadata": {}
  },
  {
   "cell_type": "code",
   "execution_count": null,
   "metadata": {},
   "outputs": [],
   "source": [
    "# ダウンロードに失敗しないようにするためのおまじない\n",
    "os.environ[\"SSL_CERT_FILE\"] = certifi.where()\n",
    "\n",
    "# モデルのダウンロード先\n",
    "os.environ[\"TFHUB_CACHE_DIR\"] = Path(\"~/.cache/tfhub_modules\").expanduser().as_posix()\n",
    "\n",
    "model = hub.load(\"https://tfhub.dev/tensorflow/ssd_mobilenet_v2/2\")"
   ]
  },
  {
   "source": [
    "## 画像データをロード"
   ],
   "cell_type": "markdown",
   "metadata": {}
  },
  {
   "cell_type": "code",
   "execution_count": null,
   "metadata": {},
   "outputs": [],
   "source": [
    "image = Image.open(\"dog.jpg\")\n",
    "image"
   ]
  },
  {
   "source": [
    "## 画像データをテンソル化"
   ],
   "cell_type": "markdown",
   "metadata": {}
  },
  {
   "cell_type": "code",
   "execution_count": null,
   "metadata": {},
   "outputs": [],
   "source": [
    "images = np.asarray(image)\n",
    "images = tf.expand_dims(images, axis=0)\n",
    "images.shape, images.dtype"
   ]
  },
  {
   "source": [
    "## 推論を実行"
   ],
   "cell_type": "markdown",
   "metadata": {}
  },
  {
   "cell_type": "code",
   "execution_count": null,
   "metadata": {},
   "outputs": [],
   "source": [
    "outputs = model(images)\n",
    "\n",
    "boxes = outputs[\"detection_boxes\"][0]\n",
    "labels = outputs[\"detection_classes\"][0]\n",
    "scores = outputs[\"detection_scores\"][0]\n",
    "\n",
    "for box, label, score in zip(boxes, labels, scores):\n",
    "    y_min, x_min, y_max, x_max = box\n",
    "    label = int(label)\n",
    "    name = category_index[label][\"name\"]\n",
    "\n",
    "    if score <= 0.5:\n",
    "        continue\n",
    "\n",
    "    print(f\"{name},{label},{score:.6f},{x_min:.6f},{y_min:.6f},{x_max:.6f},{y_max:.6f}\")"
   ]
  },
  {
   "source": [
    "## バウンディングボックスを描画"
   ],
   "cell_type": "markdown",
   "metadata": {}
  },
  {
   "cell_type": "code",
   "execution_count": null,
   "metadata": {},
   "outputs": [],
   "source": [
    "output_image = np.asarray(image).copy()\n",
    "\n",
    "viz_utils.visualize_boxes_and_labels_on_image_array(\n",
    "    output_image,\n",
    "    boxes.numpy(),\n",
    "    labels.numpy().astype(int),\n",
    "    scores.numpy(),\n",
    "    category_index,\n",
    "    use_normalized_coordinates=True,\n",
    ")\n",
    "\n",
    "output_image = Image.fromarray(output_image)\n",
    "output_image"
   ]
  },
  {
   "cell_type": "code",
   "execution_count": null,
   "metadata": {},
   "outputs": [],
   "source": []
  }
 ]
}