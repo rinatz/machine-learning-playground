{
 "metadata": {
  "language_info": {
   "codemirror_mode": {
    "name": "ipython",
    "version": 3
   },
   "file_extension": ".py",
   "mimetype": "text/x-python",
   "name": "python",
   "nbconvert_exporter": "python",
   "pygments_lexer": "ipython3",
   "version": "3.7.9-final"
  },
  "orig_nbformat": 2,
  "kernelspec": {
   "name": "python37564bitvenvvenvacca52fa36cf462dba4e25ddfa41bad4",
   "display_name": "Python 3.7.5 64-bit ('.venv': venv)",
   "language": "python"
  }
 },
 "nbformat": 4,
 "nbformat_minor": 2,
 "cells": [
  {
   "source": [
    "# YOLO + OpenCV を使った物体検出"
   ],
   "cell_type": "markdown",
   "metadata": {}
  },
  {
   "source": [
    "## インポート"
   ],
   "cell_type": "markdown",
   "metadata": {}
  },
  {
   "cell_type": "code",
   "execution_count": null,
   "metadata": {},
   "outputs": [],
   "source": [
    "from pathlib import Path\n",
    "\n",
    "import certifi\n",
    "import numpy as np\n",
    "import cv2 as cv\n",
    "import tensorflow as tf"
   ]
  },
  {
   "source": [
    "## モデルのダウンロード"
   ],
   "cell_type": "markdown",
   "metadata": {}
  },
  {
   "cell_type": "code",
   "execution_count": null,
   "metadata": {},
   "outputs": [],
   "source": [
    "# ダウンロードに失敗しないようにするためのおまじない\n",
    "os.environ[\"SSL_CERT_FILE\"] = certifi.where()\n",
    "\n",
    "tf.keras.utils.get_file(\n",
    "    origin=\"https://github.com/AlexeyAB/darknet/releases/download/darknet_yolo_v3_optimal/yolov4.cfg\",\n",
    "    fname=\"yolov4.cfg\",\n",
    "    cache_subdir=\"models/yolov4\",\n",
    ")\n",
    "tf.keras.utils.get_file(\n",
    "    fname=\"yolov4.weights\",\n",
    "    origin=\"https://github.com/AlexeyAB/darknet/releases/download/darknet_yolo_v3_optimal/yolov4.weights\",\n",
    "    cache_subdir=\"models/yolov4\",\n",
    ")\n",
    "tf.keras.utils.get_file(\n",
    "    fname=\"coco.names\",\n",
    "    origin=\"https://raw.githubusercontent.com/AlexeyAB/darknet/master/data/coco.names\",\n",
    "    cache_subdir=\"models/yolov4\",\n",
    ")\n",
    "\n",
    "print(\"Downloaded the model to ~/.keras/models/yolov4\")"
   ]
  },
  {
   "source": [
    "## ラベルマップデータをロード"
   ],
   "cell_type": "markdown",
   "metadata": {}
  },
  {
   "cell_type": "code",
   "execution_count": null,
   "metadata": {},
   "outputs": [],
   "source": [
    "with Path(\"~/.keras/models/yolov4/coco.names\").expanduser().open() as f:\n",
    "    category_index = {id: {\"id\": id, \"name\": name.strip()} for id, name in enumerate(f)}"
   ]
  },
  {
   "source": [
    "## モデルをロード"
   ],
   "cell_type": "markdown",
   "metadata": {}
  },
  {
   "cell_type": "code",
   "execution_count": null,
   "metadata": {},
   "outputs": [],
   "source": [
    "model_dir = Path(\"~/.keras/models/yolov4\").expanduser()\n",
    "config_path = model_dir.joinpath(\"yolov4.cfg\")\n",
    "weights_path = model_dir.joinpath(\"yolov4.weights\")\n",
    "\n",
    "model = cv.dnn.readNetFromDarknet(str(config_path), str(weights_path))"
   ]
  },
  {
   "source": [
    "## 画像データをロード"
   ],
   "cell_type": "markdown",
   "metadata": {}
  },
  {
   "cell_type": "code",
   "execution_count": null,
   "metadata": {},
   "outputs": [],
   "source": [
    "image = cv.imread(\"dog.jpg\")"
   ]
  },
  {
   "source": [
    "## 画像データを正規化"
   ],
   "cell_type": "markdown",
   "metadata": {}
  },
  {
   "cell_type": "code",
   "execution_count": null,
   "metadata": {},
   "outputs": [],
   "source": [
    "images = cv.dnn.blobFromImage(image, scalefactor=1 / 255, size=(416, 416), swapRB=True)\n",
    "images.shape, images.dtype"
   ]
  },
  {
   "source": [
    "## 推論を実行"
   ],
   "cell_type": "markdown",
   "metadata": {}
  },
  {
   "cell_type": "code",
   "execution_count": null,
   "metadata": {},
   "outputs": [],
   "source": [
    "out_layers_names = model.getUnconnectedOutLayersNames()\n",
    "\n",
    "model.setInput(images)\n",
    "outputs = model.forward(out_layers_names)\n",
    "outputs = np.vstack(outputs)\n",
    "\n",
    "raw_boxes = []\n",
    "raw_scores = []\n",
    "raw_labels = []\n",
    "\n",
    "for output in outputs:\n",
    "    label = np.argmax(output[5:])\n",
    "    score = output[5:][label]\n",
    "\n",
    "    x_center, y_center, width, height = output[:4]\n",
    "    x_min, y_min = x_center - width / 2, y_center - height / 2\n",
    "\n",
    "    x_min = 0.0 if x_min < 0.0 else x_min\n",
    "    y_min = 0.0 if y_min < 0.0 else y_min\n",
    "\n",
    "    raw_boxes.append([x_min, y_min, width, height])\n",
    "    raw_scores.append(score)\n",
    "    raw_labels.append(label)\n",
    "\n",
    "indices = np.argsort(raw_scores)[::-1]\n",
    "\n",
    "raw_boxes = np.array(raw_boxes)[indices]\n",
    "raw_scores = np.array(raw_scores)[indices]\n",
    "raw_labels = np.array(raw_labels)[indices]\n",
    "\n",
    "raw_boxes.shape, raw_scores.shape, raw_labels.shape"
   ]
  },
  {
   "source": [
    "## Non-Maximum Suppression"
   ],
   "cell_type": "markdown",
   "metadata": {}
  },
  {
   "cell_type": "code",
   "execution_count": null,
   "metadata": {},
   "outputs": [],
   "source": [
    "# NumPy 配列を渡すとハングアップするので .tolist() で Python リストに変換する\n",
    "indices = cv.dnn.NMSBoxes(\n",
    "    raw_boxes.tolist(),\n",
    "    raw_scores.tolist(),\n",
    "    score_threshold=0.5,\n",
    "    nms_threshold=0.5,\n",
    ")\n",
    "\n",
    "indices = indices.flatten()\n",
    "\n",
    "boxes = raw_boxes[indices]\n",
    "scores = raw_scores[indices]\n",
    "labels = raw_labels[indices]\n",
    "\n",
    "boxes.shape, scores.shape, labels.shape"
   ]
  },
  {
   "source": [
    "## バウンディングボックスを描画"
   ],
   "cell_type": "markdown",
   "metadata": {}
  },
  {
   "cell_type": "code",
   "execution_count": null,
   "metadata": {},
   "outputs": [],
   "source": [
    "output_image = image.copy()\n",
    "\n",
    "height, width = output_image.shape[:2]\n",
    "xy_scale = np.array([width, height, width, height])\n",
    "\n",
    "for box, score, label in zip(boxes, scores, labels):\n",
    "    box = box * xy_scale\n",
    "    x_min, y_min, width, height = box.astype(int).tolist()\n",
    "    x_max, y_max = x_min + width, y_min + height\n",
    "\n",
    "    name = category_index[label][\"name\"]\n",
    "    text = f\"{name}: {score * 100:.1f}%\"\n",
    "\n",
    "    print(f\"{name},{label},{score:.6f},{x_min},{y_min},{x_max},{y_max}\")\n",
    "\n",
    "    cv.putText(output_image, text, (x_min, y_min), cv.FONT_HERSHEY_SIMPLEX, fontScale=1, color=(0, 0, 255))\n",
    "    cv.rectangle(output_image, (x_min, y_min, width, height), color=(0, 0, 255))\n",
    "\n",
    "cv.imwrite(\"output.jpg\", output_image)"
   ]
  },
  {
   "cell_type": "code",
   "execution_count": null,
   "metadata": {},
   "outputs": [],
   "source": []
  }
 ]
}