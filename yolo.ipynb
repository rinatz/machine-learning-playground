{
 "metadata": {
  "language_info": {
   "codemirror_mode": {
    "name": "ipython",
    "version": 3
   },
   "file_extension": ".py",
   "mimetype": "text/x-python",
   "name": "python",
   "nbconvert_exporter": "python",
   "pygments_lexer": "ipython3",
   "version": "3.7.9-final"
  },
  "orig_nbformat": 2,
  "kernelspec": {
   "name": "python3",
   "display_name": "Python 3.7.9 64-bit ('.venv')",
   "metadata": {
    "interpreter": {
     "hash": "7b5e2a78f9c7166a3da6eececea51f4007ffd45b40b13f1c624525d75cb8326f"
    }
   }
  }
 },
 "nbformat": 4,
 "nbformat_minor": 2,
 "cells": [
  {
   "source": [
    "# YOLO を使った物体検出"
   ],
   "cell_type": "markdown",
   "metadata": {}
  },
  {
   "source": [
    "## インストール"
   ],
   "cell_type": "markdown",
   "metadata": {}
  },
  {
   "cell_type": "code",
   "execution_count": null,
   "metadata": {
    "tags": []
   },
   "outputs": [],
   "source": [
    "!pip install -r tensorflow-yolov4-tflite/requirements.txt"
   ]
  },
  {
   "source": [
    "## 定数"
   ],
   "cell_type": "markdown",
   "metadata": {}
  },
  {
   "cell_type": "code",
   "execution_count": null,
   "metadata": {},
   "outputs": [],
   "source": [
    "# 適当な画像を用意する\n",
    "IMAGE_PATH = \"dog.jpg\"\n",
    "\n",
    "# 入力データのサイズ\n",
    "INPUT_SIZE = 416\n",
    "\n",
    "# 推論結果のスコアに対するしきい値\n",
    "SCORE_THRESHOLD = 0.5\n",
    "\n",
    "# Non-Maximun Suppression における IoU のしきい値\n",
    "IOU_THRESHOLD = 0.5"
   ]
  },
  {
   "source": [
    "## インポート"
   ],
   "cell_type": "markdown",
   "metadata": {}
  },
  {
   "cell_type": "code",
   "execution_count": null,
   "metadata": {},
   "outputs": [],
   "source": [
    "import os\n",
    "from pathlib import Path\n",
    "\n",
    "import tensorflow as tf\n",
    "import numpy as np\n",
    "import cv2 as cv\n",
    "from PIL import Image, ImageDraw, ImageColor, ImageFont\n",
    "import certifi"
   ]
  },
  {
   "source": [
    "## モデルのダウンロード"
   ],
   "cell_type": "markdown",
   "metadata": {}
  },
  {
   "cell_type": "code",
   "execution_count": null,
   "metadata": {},
   "outputs": [],
   "source": [
    "# ダウンロードに失敗しないようにするためのおまじない\n",
    "os.environ[\"SSL_CERT_FILE\"] = certifi.where()"
   ]
  },
  {
   "cell_type": "code",
   "execution_count": null,
   "metadata": {},
   "outputs": [],
   "source": [
    "tf.keras.utils.get_file(\n",
    "    fname=\"yolov4.cfg\",\n",
    "    origin=\"https://github.com/AlexeyAB/darknet/releases/download/darknet_yolo_v3_optimal/yolov4.cfg\",\n",
    "    cache_subdir=\"models/yolov4\",\n",
    ")\n",
    "model_dir = tf.keras.utils.get_file(\n",
    "    fname=\"yolov4.weights\",\n",
    "    origin=\"https://github.com/AlexeyAB/darknet/releases/download/darknet_yolo_v3_optimal/yolov4.weights\",\n",
    "    cache_subdir=\"models/yolov4\",\n",
    ")\n",
    "model_dir = str(Path(model_dir).parent)\n",
    "model_dir"
   ]
  },
  {
   "source": [
    "## モデルを SavedModel に変換"
   ],
   "cell_type": "markdown",
   "metadata": {}
  },
  {
   "cell_type": "code",
   "execution_count": null,
   "metadata": {
    "tags": [
     "outputPrepend"
    ]
   },
   "outputs": [],
   "source": [
    "!cd tensorflow-yolov4-tflite && python save_model.py --weights $model_dir/yolov4.weights --output $model_dir/saved_model --input_size $INPUT_SIZE --model yolov4"
   ]
  },
  {
   "source": [
    "## モデルをロード"
   ],
   "cell_type": "markdown",
   "metadata": {}
  },
  {
   "cell_type": "code",
   "execution_count": null,
   "metadata": {},
   "outputs": [],
   "source": [
    "model = tf.saved_model.load(str(Path(model_dir).joinpath(\"saved_model\")))\n",
    "infer = model.signatures[\"serving_default\"]\n",
    "\n",
    "!saved_model_cli show --all --dir $model_dir/saved_model"
   ]
  },
  {
   "cell_type": "code",
   "execution_count": null,
   "metadata": {},
   "outputs": [],
   "source": [
    "with Path(model_dir).joinpath(\"coco.names\").open() as f:\n",
    "    category_index = {id: {\"id\": id, \"name\": name.strip()} for id, name in enumerate(f)}"
   ]
  },
  {
   "source": [
    "## 画像データをロード"
   ],
   "cell_type": "markdown",
   "metadata": {}
  },
  {
   "cell_type": "code",
   "execution_count": null,
   "metadata": {},
   "outputs": [],
   "source": [
    "image = tf.io.read_file(IMAGE_PATH)\n",
    "image = tf.io.decode_jpeg(image)"
   ]
  },
  {
   "source": [
    "## 画像データを正規化"
   ],
   "cell_type": "markdown",
   "metadata": {}
  },
  {
   "cell_type": "code",
   "execution_count": null,
   "metadata": {},
   "outputs": [],
   "source": [
    "images = tf.image.convert_image_dtype(image, tf.float32)\n",
    "images = tf.image.resize(images, (INPUT_SIZE, INPUT_SIZE))\n",
    "images = tf.stack([images])\n",
    "images"
   ]
  },
  {
   "source": [
    "## 推論を実行"
   ],
   "cell_type": "markdown",
   "metadata": {}
  },
  {
   "cell_type": "code",
   "execution_count": null,
   "metadata": {},
   "outputs": [],
   "source": [
    "preds = infer(images)\n",
    "\n",
    "boxes = preds[\"tf_op_layer_concat_18\"][:, :, :4]\n",
    "boxes = tf.stack([boxes], axis=2)\n",
    "\n",
    "scores = preds[\"tf_op_layer_concat_18\"][:, :, 4:]\n",
    "\n",
    "boxes.shape, scores.shape"
   ]
  },
  {
   "source": [
    "## Non-Maximun Suppression"
   ],
   "cell_type": "markdown",
   "metadata": {}
  },
  {
   "cell_type": "code",
   "execution_count": null,
   "metadata": {},
   "outputs": [],
   "source": [
    "boxes, scores, labels, num_detections = tf.image.combined_non_max_suppression(\n",
    "    boxes,\n",
    "    scores,\n",
    "    max_output_size_per_class=50,\n",
    "    max_total_size=50,\n",
    "    score_threshold=SCORE_THRESHOLD,\n",
    "    iou_threshold=IOU_THRESHOLD,\n",
    ")\n",
    "\n",
    "boxes = boxes[0]\n",
    "scores = scores[0]\n",
    "labels = labels[0]\n",
    "num_detections = int(num_detections[0])\n",
    "\n",
    "num_detections, boxes.shape, scores.shape, labels.shape"
   ]
  },
  {
   "source": [
    "## バウンディングボックスを描画"
   ],
   "cell_type": "markdown",
   "metadata": {}
  },
  {
   "cell_type": "code",
   "execution_count": null,
   "metadata": {},
   "outputs": [],
   "source": [
    "output_image = Image.open(IMAGE_PATH)\n",
    "\n",
    "draw = ImageDraw.Draw(output_image)\n",
    "color = ImageColor.getrgb(\"#E91E63\")\n",
    "font = ImageFont.truetype(\"Monaco\", size=46)\n",
    "\n",
    "xy_scale = np.array([output_image.height, output_image.width, output_image.height, output_image.width])\n",
    "\n",
    "for i in range(num_detections):\n",
    "    label = int(labels[i])\n",
    "    score = scores[i]\n",
    "\n",
    "    if score <= SCORE_THRESHOLD:\n",
    "        continue\n",
    "\n",
    "    name = category_index[label][\"name\"]\n",
    "    y_min, x_min, y_max, x_max = boxes[i] * xy_scale\n",
    "\n",
    "    draw.text((x_min, y_min), name, font=font, fill=color)\n",
    "    draw.rectangle((x_min, y_min, x_max, y_max), outline=color, width=4)\n",
    "\n",
    "output_image"
   ]
  },
  {
   "cell_type": "code",
   "execution_count": null,
   "metadata": {},
   "outputs": [],
   "source": []
  }
 ]
}