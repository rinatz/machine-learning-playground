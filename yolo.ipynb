{
 "metadata": {
  "language_info": {
   "codemirror_mode": {
    "name": "ipython",
    "version": 3
   },
   "file_extension": ".py",
   "mimetype": "text/x-python",
   "name": "python",
   "nbconvert_exporter": "python",
   "pygments_lexer": "ipython3",
   "version": "3.7.9-final"
  },
  "orig_nbformat": 2,
  "kernelspec": {
   "name": "python3",
   "display_name": "Python 3.7.9 64-bit ('.venv')",
   "metadata": {
    "interpreter": {
     "hash": "1186d4e9fc71bc68e5c236a61d6a16eabd05ebef8d3df8b6414dc4fb9c6b4b41"
    }
   }
  }
 },
 "nbformat": 4,
 "nbformat_minor": 2,
 "cells": [
  {
   "source": [
    "# YOLO を使った物体検出"
   ],
   "cell_type": "markdown",
   "metadata": {}
  },
  {
   "source": [
    "## インポート"
   ],
   "cell_type": "markdown",
   "metadata": {}
  },
  {
   "cell_type": "code",
   "execution_count": null,
   "metadata": {},
   "outputs": [],
   "source": [
    "import os\n",
    "from pathlib import Path\n",
    "\n",
    "import certifi\n",
    "import numpy as np\n",
    "from PIL import Image, ImageDraw, ImageFont, ImageColor\n",
    "\n",
    "import tensorflow as tf"
   ]
  },
  {
   "source": [
    "## セットアップ"
   ],
   "cell_type": "markdown",
   "metadata": {}
  },
  {
   "cell_type": "code",
   "execution_count": null,
   "metadata": {},
   "outputs": [],
   "source": [
    "%%bash\n",
    "\n",
    "if [[ ! -d \"tensorflow-yolov4-tflite\" ]]; then\n",
    "    git clone --depth 1 https://github.com/hunglc007/tensorflow-yolov4-tflite.git\n",
    "fi"
   ]
  },
  {
   "cell_type": "code",
   "execution_count": null,
   "metadata": {
    "tags": []
   },
   "outputs": [],
   "source": [
    "%%bash\n",
    "\n",
    "cd tensorflow-yolov4-tflite\n",
    "pip install -q -r requirements.txt"
   ]
  },
  {
   "source": [
    "## モデルのダウンロード"
   ],
   "cell_type": "markdown",
   "metadata": {}
  },
  {
   "cell_type": "code",
   "execution_count": null,
   "metadata": {},
   "outputs": [],
   "source": [
    "# ダウンロードに失敗しないようにするためのおまじない\n",
    "os.environ[\"SSL_CERT_FILE\"] = certifi.where()\n",
    "\n",
    "tf.keras.utils.get_file(\n",
    "    fname=\"yolov4.cfg\",\n",
    "    origin=\"https://github.com/AlexeyAB/darknet/releases/download/darknet_yolo_v3_optimal/yolov4.cfg\",\n",
    "    cache_subdir=\"models/yolov4\",\n",
    ")\n",
    "tf.keras.utils.get_file(\n",
    "    fname=\"yolov4.weights\",\n",
    "    origin=\"https://github.com/AlexeyAB/darknet/releases/download/darknet_yolo_v3_optimal/yolov4.weights\",\n",
    "    cache_subdir=\"models/yolov4\",\n",
    ")\n",
    "\n",
    "print(\"Downloaded the model to ~/.keras/models/yolov4\")"
   ]
  },
  {
   "source": [
    "## モデルを SavedModel に変換"
   ],
   "cell_type": "markdown",
   "metadata": {}
  },
  {
   "cell_type": "code",
   "execution_count": null,
   "metadata": {
    "tags": [
     "outputPrepend"
    ]
   },
   "outputs": [],
   "source": [
    "%%bash\n",
    "\n",
    "cd tensorflow-yolov4-tflite\n",
    "python3 save_model.py --weights ~/.keras/models/yolov4/yolov4.weights --output ~/.keras/models/yolov4/saved_model --input_size 416 --model yolov4"
   ]
  },
  {
   "source": [
    "## モデルの構造を確認"
   ],
   "cell_type": "markdown",
   "metadata": {}
  },
  {
   "cell_type": "code",
   "execution_count": null,
   "metadata": {},
   "outputs": [],
   "source": [
    "%%bash\n",
    "\n",
    "saved_model_cli show --all --dir ~/.keras/models/yolov4/saved_model"
   ]
  },
  {
   "source": [
    "## ラベルマップデータをロード"
   ],
   "cell_type": "markdown",
   "metadata": {}
  },
  {
   "cell_type": "code",
   "execution_count": null,
   "metadata": {},
   "outputs": [],
   "source": [
    "with Path(\"~/.keras/models/yolov4/coco.names\").expanduser().open() as f:\n",
    "    category_index = {id: {\"id\": id, \"name\": name.strip()} for id, name in enumerate(f)}"
   ]
  },
  {
   "source": [
    "## モデルをロード"
   ],
   "cell_type": "markdown",
   "metadata": {}
  },
  {
   "cell_type": "code",
   "execution_count": null,
   "metadata": {},
   "outputs": [],
   "source": [
    "model_dir = Path(\"~/.keras/models/yolov4/saved_model\").expanduser()\n",
    "model = tf.saved_model.load(str(model_dir))"
   ]
  },
  {
   "source": [
    "## 画像データをロード"
   ],
   "cell_type": "markdown",
   "metadata": {}
  },
  {
   "cell_type": "code",
   "execution_count": null,
   "metadata": {},
   "outputs": [],
   "source": [
    "image = Image.open(\"dog.jpg\")\n",
    "image"
   ]
  },
  {
   "source": [
    "## 画像データを正規化"
   ],
   "cell_type": "markdown",
   "metadata": {}
  },
  {
   "cell_type": "code",
   "execution_count": null,
   "metadata": {},
   "outputs": [],
   "source": [
    "images = tf.image.convert_image_dtype(np.asarray(image), dtype=tf.float32)\n",
    "images = tf.image.resize(images, (416, 416))\n",
    "images = tf.expand_dims(images, axis=0)\n",
    "images.shape, images.dtype"
   ]
  },
  {
   "source": [
    "## 推論を実行"
   ],
   "cell_type": "markdown",
   "metadata": {}
  },
  {
   "cell_type": "code",
   "execution_count": null,
   "metadata": {},
   "outputs": [],
   "source": [
    "outputs = model(images)\n",
    "\n",
    "boxes = tf.expand_dims(outputs[:, :, :4], axis=2)\n",
    "scores = outputs[:, :, 4:]\n",
    "\n",
    "boxes.shape, scores.shape"
   ]
  },
  {
   "source": [
    "## Non-Maximun Suppression"
   ],
   "cell_type": "markdown",
   "metadata": {}
  },
  {
   "cell_type": "code",
   "execution_count": null,
   "metadata": {},
   "outputs": [],
   "source": [
    "boxes, scores, labels, num_detections = tf.image.combined_non_max_suppression(\n",
    "    boxes,\n",
    "    scores,\n",
    "    max_output_size_per_class=20,\n",
    "    max_total_size=20,\n",
    "    score_threshold=0.5,\n",
    "    iou_threshold=0.5,\n",
    ")\n",
    "\n",
    "boxes = boxes[0]\n",
    "scores = scores[0]\n",
    "labels = labels[0]\n",
    "num_detections = int(num_detections[0])\n",
    "\n",
    "num_detections, boxes.shape, scores.shape, labels.shape"
   ]
  },
  {
   "source": [
    "## バウンディングボックスを描画"
   ],
   "cell_type": "markdown",
   "metadata": {}
  },
  {
   "cell_type": "code",
   "execution_count": null,
   "metadata": {},
   "outputs": [],
   "source": [
    "output_image = image.copy()\n",
    "\n",
    "draw = ImageDraw.Draw(output_image)\n",
    "color = ImageColor.getrgb(\"#E91E63\")\n",
    "font = ImageFont.truetype(\"Monaco\", size=46)\n",
    "\n",
    "xy_scale = np.array([output_image.height, output_image.width, output_image.height, output_image.width])\n",
    "\n",
    "for i in range(num_detections):\n",
    "    label = int(labels[i])\n",
    "    score = scores[i]\n",
    "\n",
    "    if score <= 0.5:\n",
    "        continue\n",
    "\n",
    "    name = category_index[label][\"name\"]\n",
    "    y_min, x_min, y_max, x_max = boxes[i] * xy_scale\n",
    "\n",
    "    print(f\"{name},{label},{score:.6f},{x_min:.6f},{y_min:.6f},{x_max:.6f},{y_max:.6f}\")\n",
    "\n",
    "    draw.text((x_min, y_min), name, font=font, fill=color)\n",
    "    draw.rectangle((x_min, y_min, x_max, y_max), outline=color, width=4)\n",
    "\n",
    "output_image"
   ]
  }
 ]
}